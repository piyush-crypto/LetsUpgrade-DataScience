{
 "cells": [
  {
   "cell_type": "markdown",
   "metadata": {},
   "source": [
    "## Question 1"
   ]
  },
  {
   "cell_type": "raw",
   "metadata": {},
   "source": [
    "B. RAINBOW"
   ]
  },
  {
   "cell_type": "markdown",
   "metadata": {},
   "source": [
    "## Question 2"
   ]
  },
  {
   "cell_type": "code",
   "execution_count": 12,
   "metadata": {},
   "outputs": [
    {
     "name": "stdout",
     "output_type": "stream",
     "text": [
      "LETS UPGRADE\n"
     ]
    }
   ],
   "source": [
    "print(\"LETS UPGRADE\")"
   ]
  },
  {
   "cell_type": "markdown",
   "metadata": {},
   "source": [
    "## Question 3"
   ]
  },
  {
   "cell_type": "code",
   "execution_count": 13,
   "metadata": {},
   "outputs": [
    {
     "name": "stdout",
     "output_type": "stream",
     "text": [
      "Enter a cost price: 10\n",
      "Enter a selling price: 15\n",
      "Profit.\n"
     ]
    }
   ],
   "source": [
    "CP = int(input(\"Enter a cost price: \"))\n",
    "SP = int(input(\"Enter a selling price: \"))\n",
    "Trans = SP-CP\n",
    "\n",
    "if Trans > 0:\n",
    "    print(\"Profit.\")\n",
    "elif Trans < 0:\n",
    "    print(\"Loss.\")\n",
    "else:\n",
    "    print(\"Neither.\")"
   ]
  },
  {
   "cell_type": "markdown",
   "metadata": {},
   "source": [
    "## Question 4 "
   ]
  },
  {
   "cell_type": "code",
   "execution_count": 15,
   "metadata": {},
   "outputs": [
    {
     "name": "stdout",
     "output_type": "stream",
     "text": [
      "20\n",
      "15\n",
      "Loss.\n"
     ]
    }
   ],
   "source": [
    "CP1 = int(input())\n",
    "SP1 = int(input())\n",
    "Trans1 = SP1-CP1\n",
    "\n",
    "if Trans1 > 0:\n",
    "    print(\"Profit.\")\n",
    "elif Trans1 < 0:\n",
    "    print(\"Loss.\")\n",
    "else:\n",
    "    print(\"Neither.\")"
   ]
  },
  {
   "cell_type": "markdown",
   "metadata": {},
   "source": [
    "## Question 5"
   ]
  },
  {
   "cell_type": "code",
   "execution_count": 9,
   "metadata": {},
   "outputs": [
    {
     "name": "stdout",
     "output_type": "stream",
     "text": [
      "50\n",
      "4000\n"
     ]
    }
   ],
   "source": [
    "R = int(input())\n",
    "E = 80\n",
    "R = R*E\n",
    "print(R)"
   ]
  },
  {
   "cell_type": "code",
   "execution_count": null,
   "metadata": {},
   "outputs": [],
   "source": []
  }
 ],
 "metadata": {
  "kernelspec": {
   "display_name": "Python 3",
   "language": "python",
   "name": "python3"
  },
  "language_info": {
   "codemirror_mode": {
    "name": "ipython",
    "version": 3
   },
   "file_extension": ".py",
   "mimetype": "text/x-python",
   "name": "python",
   "nbconvert_exporter": "python",
   "pygments_lexer": "ipython3",
   "version": "3.8.3"
  }
 },
 "nbformat": 4,
 "nbformat_minor": 4
}
